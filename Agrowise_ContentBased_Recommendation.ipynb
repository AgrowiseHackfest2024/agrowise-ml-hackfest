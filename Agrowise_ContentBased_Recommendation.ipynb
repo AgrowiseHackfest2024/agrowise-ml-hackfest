{
 "cells": [
  {
   "cell_type": "markdown",
   "metadata": {},
   "source": [
    "## **Library Import**"
   ]
  },
  {
   "cell_type": "code",
   "execution_count": 186,
   "metadata": {},
   "outputs": [],
   "source": [
    "import pandas as pd\n",
    "import numpy as np\n",
    "from sklearn.feature_extraction.text import TfidfVectorizer\n",
    "from sklearn.metrics.pairwise import cosine_similarity\n",
    "import tensorflow as tf\n",
    "from tensorflow import keras\n",
    "from tensorflow.keras import layers\n",
    "import matplotlib.pyplot as plt\n",
    "import os\n",
    "import requests\n",
    "from dotenv import load_dotenv"
   ]
  },
  {
   "cell_type": "markdown",
   "metadata": {},
   "source": [
    "## **Setup**"
   ]
  },
  {
   "cell_type": "code",
   "execution_count": 187,
   "metadata": {},
   "outputs": [
    {
     "data": {
      "text/plain": [
       "True"
      ]
     },
     "execution_count": 187,
     "metadata": {},
     "output_type": "execute_result"
    }
   ],
   "source": [
    "load_dotenv()"
   ]
  },
  {
   "cell_type": "code",
   "execution_count": 188,
   "metadata": {},
   "outputs": [
    {
     "name": "stdout",
     "output_type": "stream",
     "text": [
      "[name: \"/device:CPU:0\"\n",
      "device_type: \"CPU\"\n",
      "memory_limit: 268435456\n",
      "locality {\n",
      "}\n",
      "incarnation: 18085154458793833125\n",
      "xla_global_id: -1\n",
      ", name: \"/device:GPU:0\"\n",
      "device_type: \"GPU\"\n",
      "memory_limit: 1734816564\n",
      "locality {\n",
      "  bus_id: 1\n",
      "  links {\n",
      "  }\n",
      "}\n",
      "incarnation: 11801439030010903759\n",
      "physical_device_desc: \"device: 0, name: NVIDIA GeForce RTX 3050 Laptop GPU, pci bus id: 0000:01:00.0, compute capability: 8.6\"\n",
      "xla_global_id: 416903419\n",
      "]\n"
     ]
    }
   ],
   "source": [
    "from tensorflow.python.client import device_lib\n",
    "print(device_lib.list_local_devices())"
   ]
  },
  {
   "cell_type": "code",
   "execution_count": 189,
   "metadata": {},
   "outputs": [],
   "source": [
    "physical_devices = tf.config.list_physical_devices('GPU')\n",
    "tf.config.experimental.set_memory_growth(physical_devices[0], True)"
   ]
  },
  {
   "cell_type": "markdown",
   "metadata": {},
   "source": [
    "## **Data Import**"
   ]
  },
  {
   "cell_type": "code",
   "execution_count": 190,
   "metadata": {},
   "outputs": [],
   "source": [
    "development = os.getenv('BACKEND_URL')\n",
    "headers = {\n",
    "  'Authorization': 'Bearer ' + os.getenv('DB_TOKEN'),\n",
    "  'Cache-Control': 'no-cache',\n",
    "  'Connection': 'keep-alive',\n",
    "}"
   ]
  },
  {
   "cell_type": "markdown",
   "metadata": {},
   "source": [
    "### Farmer"
   ]
  },
  {
   "cell_type": "code",
   "execution_count": 191,
   "metadata": {},
   "outputs": [
    {
     "data": {
      "text/html": [
       "<div>\n",
       "<style scoped>\n",
       "    .dataframe tbody tr th:only-of-type {\n",
       "        vertical-align: middle;\n",
       "    }\n",
       "\n",
       "    .dataframe tbody tr th {\n",
       "        vertical-align: top;\n",
       "    }\n",
       "\n",
       "    .dataframe thead th {\n",
       "        text-align: right;\n",
       "    }\n",
       "</style>\n",
       "<table border=\"1\" class=\"dataframe\">\n",
       "  <thead>\n",
       "    <tr style=\"text-align: right;\">\n",
       "      <th></th>\n",
       "      <th>id</th>\n",
       "      <th>nama</th>\n",
       "      <th>jenis_sawah</th>\n",
       "    </tr>\n",
       "  </thead>\n",
       "  <tbody>\n",
       "    <tr>\n",
       "      <th>0</th>\n",
       "      <td>1000a253-a43c-4ab3-91f7-8c370e01b9c4</td>\n",
       "      <td>Syawalludin</td>\n",
       "      <td>Dataran Tinggi</td>\n",
       "    </tr>\n",
       "    <tr>\n",
       "      <th>1</th>\n",
       "      <td>2345a62a-8d3a-4f7b-aad5-7e50670a817b</td>\n",
       "      <td>Auva</td>\n",
       "      <td>Irigasi</td>\n",
       "    </tr>\n",
       "    <tr>\n",
       "      <th>2</th>\n",
       "      <td>58c5ee91-37b5-4818-8815-872eae86f21c</td>\n",
       "      <td>Budiman</td>\n",
       "      <td>Dataran Tinggi</td>\n",
       "    </tr>\n",
       "    <tr>\n",
       "      <th>3</th>\n",
       "      <td>7488ab52-bc5b-4ff2-9427-a01b64145c6c</td>\n",
       "      <td>Suryadi</td>\n",
       "      <td>Dataran Rendah</td>\n",
       "    </tr>\n",
       "    <tr>\n",
       "      <th>4</th>\n",
       "      <td>a5d3b9fe-eb1f-4c7e-84fb-fd95a39697a7</td>\n",
       "      <td>Kevin</td>\n",
       "      <td>Ladang</td>\n",
       "    </tr>\n",
       "    <tr>\n",
       "      <th>5</th>\n",
       "      <td>cecb6e32-8f30-4806-a16c-a6073966ad65</td>\n",
       "      <td>Amriz</td>\n",
       "      <td>Ladang</td>\n",
       "    </tr>\n",
       "    <tr>\n",
       "      <th>6</th>\n",
       "      <td>e9ef08e2-9d2d-49d4-8934-7f259cbbf867</td>\n",
       "      <td>Asepuri</td>\n",
       "      <td>Dataran Rendah</td>\n",
       "    </tr>\n",
       "  </tbody>\n",
       "</table>\n",
       "</div>"
      ],
      "text/plain": [
       "                                     id         nama     jenis_sawah\n",
       "0  1000a253-a43c-4ab3-91f7-8c370e01b9c4  Syawalludin  Dataran Tinggi\n",
       "1  2345a62a-8d3a-4f7b-aad5-7e50670a817b         Auva         Irigasi\n",
       "2  58c5ee91-37b5-4818-8815-872eae86f21c      Budiman  Dataran Tinggi\n",
       "3  7488ab52-bc5b-4ff2-9427-a01b64145c6c      Suryadi  Dataran Rendah\n",
       "4  a5d3b9fe-eb1f-4c7e-84fb-fd95a39697a7        Kevin          Ladang\n",
       "5  cecb6e32-8f30-4806-a16c-a6073966ad65        Amriz          Ladang\n",
       "6  e9ef08e2-9d2d-49d4-8934-7f259cbbf867      Asepuri  Dataran Rendah"
      ]
     },
     "execution_count": 191,
     "metadata": {},
     "output_type": "execute_result"
    }
   ],
   "source": [
    "farmer_url = development + '/farmers'\n",
    "\n",
    "response = requests.get(farmer_url, headers=headers)\n",
    "\n",
    "if response.status_code == 200:\n",
    "    farmer_data = response.json().get('data')\n",
    "    farmer_df = pd.DataFrame(farmer_data)\n",
    "else:\n",
    "    print('Error!')\n",
    "\n",
    "farmer_df = farmer_df[['id', 'nama', 'jenis_sawah']]\n",
    "farmer_df"
   ]
  },
  {
   "cell_type": "markdown",
   "metadata": {},
   "source": [
    "### Rating"
   ]
  },
  {
   "cell_type": "code",
   "execution_count": 192,
   "metadata": {},
   "outputs": [
    {
     "data": {
      "text/html": [
       "<div>\n",
       "<style scoped>\n",
       "    .dataframe tbody tr th:only-of-type {\n",
       "        vertical-align: middle;\n",
       "    }\n",
       "\n",
       "    .dataframe tbody tr th {\n",
       "        vertical-align: top;\n",
       "    }\n",
       "\n",
       "    .dataframe thead th {\n",
       "        text-align: right;\n",
       "    }\n",
       "</style>\n",
       "<table border=\"1\" class=\"dataframe\">\n",
       "  <thead>\n",
       "    <tr style=\"text-align: right;\">\n",
       "      <th></th>\n",
       "      <th>id</th>\n",
       "      <th>farmer_id</th>\n",
       "      <th>user_id</th>\n",
       "      <th>rating</th>\n",
       "    </tr>\n",
       "  </thead>\n",
       "  <tbody>\n",
       "    <tr>\n",
       "      <th>0</th>\n",
       "      <td>726caa63-6ee4-417e-b7d1-454a497f6c9f</td>\n",
       "      <td>a5d3b9fe-eb1f-4c7e-84fb-fd95a39697a7</td>\n",
       "      <td>b0af16ed-0633-42a2-afc7-2c5e48db5a48</td>\n",
       "      <td>4</td>\n",
       "    </tr>\n",
       "    <tr>\n",
       "      <th>1</th>\n",
       "      <td>a2fab6fd-6b48-4b53-9fac-e9b4f16b29b5</td>\n",
       "      <td>e9ef08e2-9d2d-49d4-8934-7f259cbbf867</td>\n",
       "      <td>c74c14bf-d6ae-455d-842c-6c02cd638349</td>\n",
       "      <td>2</td>\n",
       "    </tr>\n",
       "    <tr>\n",
       "      <th>2</th>\n",
       "      <td>a4488534-1e93-4ac6-b747-70e30cdb84ea</td>\n",
       "      <td>7488ab52-bc5b-4ff2-9427-a01b64145c6c</td>\n",
       "      <td>c74c14bf-d6ae-455d-842c-6c02cd638349</td>\n",
       "      <td>3</td>\n",
       "    </tr>\n",
       "    <tr>\n",
       "      <th>3</th>\n",
       "      <td>b31ceeb8-68c8-4828-af93-4937165fbabb</td>\n",
       "      <td>58c5ee91-37b5-4818-8815-872eae86f21c</td>\n",
       "      <td>2bd66dd6-5ac6-40ad-968e-1271da13db32</td>\n",
       "      <td>5</td>\n",
       "    </tr>\n",
       "    <tr>\n",
       "      <th>4</th>\n",
       "      <td>d63ba28f-abd3-4614-a28e-5cea2a6d554a</td>\n",
       "      <td>2345a62a-8d3a-4f7b-aad5-7e50670a817b</td>\n",
       "      <td>b0af16ed-0633-42a2-afc7-2c5e48db5a48</td>\n",
       "      <td>4</td>\n",
       "    </tr>\n",
       "    <tr>\n",
       "      <th>5</th>\n",
       "      <td>e8e358f0-dc2c-4070-a050-dd8882d2a6ce</td>\n",
       "      <td>cecb6e32-8f30-4806-a16c-a6073966ad65</td>\n",
       "      <td>c74c14bf-d6ae-455d-842c-6c02cd638349</td>\n",
       "      <td>5</td>\n",
       "    </tr>\n",
       "    <tr>\n",
       "      <th>6</th>\n",
       "      <td>fab931c1-6189-479c-8c8a-53e65f8cd06d</td>\n",
       "      <td>1000a253-a43c-4ab3-91f7-8c370e01b9c4</td>\n",
       "      <td>2bd66dd6-5ac6-40ad-968e-1271da13db32</td>\n",
       "      <td>4</td>\n",
       "    </tr>\n",
       "  </tbody>\n",
       "</table>\n",
       "</div>"
      ],
      "text/plain": [
       "                                     id                             farmer_id  \\\n",
       "0  726caa63-6ee4-417e-b7d1-454a497f6c9f  a5d3b9fe-eb1f-4c7e-84fb-fd95a39697a7   \n",
       "1  a2fab6fd-6b48-4b53-9fac-e9b4f16b29b5  e9ef08e2-9d2d-49d4-8934-7f259cbbf867   \n",
       "2  a4488534-1e93-4ac6-b747-70e30cdb84ea  7488ab52-bc5b-4ff2-9427-a01b64145c6c   \n",
       "3  b31ceeb8-68c8-4828-af93-4937165fbabb  58c5ee91-37b5-4818-8815-872eae86f21c   \n",
       "4  d63ba28f-abd3-4614-a28e-5cea2a6d554a  2345a62a-8d3a-4f7b-aad5-7e50670a817b   \n",
       "5  e8e358f0-dc2c-4070-a050-dd8882d2a6ce  cecb6e32-8f30-4806-a16c-a6073966ad65   \n",
       "6  fab931c1-6189-479c-8c8a-53e65f8cd06d  1000a253-a43c-4ab3-91f7-8c370e01b9c4   \n",
       "\n",
       "                                user_id  rating  \n",
       "0  b0af16ed-0633-42a2-afc7-2c5e48db5a48       4  \n",
       "1  c74c14bf-d6ae-455d-842c-6c02cd638349       2  \n",
       "2  c74c14bf-d6ae-455d-842c-6c02cd638349       3  \n",
       "3  2bd66dd6-5ac6-40ad-968e-1271da13db32       5  \n",
       "4  b0af16ed-0633-42a2-afc7-2c5e48db5a48       4  \n",
       "5  c74c14bf-d6ae-455d-842c-6c02cd638349       5  \n",
       "6  2bd66dd6-5ac6-40ad-968e-1271da13db32       4  "
      ]
     },
     "execution_count": 192,
     "metadata": {},
     "output_type": "execute_result"
    }
   ],
   "source": [
    "rating_url = development + '/rating/farmer'\n",
    "\n",
    "response = requests.get(rating_url, headers=headers)\n",
    "\n",
    "if response.status_code == 200:\n",
    "  rating_data = response.json().get('data')\n",
    "  rating_df = pd.DataFrame(rating_data)\n",
    "else:\n",
    "  print('Error!')\n",
    "\n",
    "rating_df = rating_df[['id', 'farmer_id', 'user_id', 'rating']]\n",
    "rating_df"
   ]
  },
  {
   "cell_type": "markdown",
   "metadata": {},
   "source": [
    "## **Data Preprocessing**"
   ]
  },
  {
   "cell_type": "code",
   "execution_count": 193,
   "metadata": {},
   "outputs": [
    {
     "data": {
      "text/html": [
       "<div>\n",
       "<style scoped>\n",
       "    .dataframe tbody tr th:only-of-type {\n",
       "        vertical-align: middle;\n",
       "    }\n",
       "\n",
       "    .dataframe tbody tr th {\n",
       "        vertical-align: top;\n",
       "    }\n",
       "\n",
       "    .dataframe thead th {\n",
       "        text-align: right;\n",
       "    }\n",
       "</style>\n",
       "<table border=\"1\" class=\"dataframe\">\n",
       "  <thead>\n",
       "    <tr style=\"text-align: right;\">\n",
       "      <th></th>\n",
       "      <th>farmer_id</th>\n",
       "      <th>nama</th>\n",
       "      <th>jenis_sawah</th>\n",
       "      <th>user_id</th>\n",
       "      <th>rating</th>\n",
       "    </tr>\n",
       "  </thead>\n",
       "  <tbody>\n",
       "    <tr>\n",
       "      <th>0</th>\n",
       "      <td>1000a253-a43c-4ab3-91f7-8c370e01b9c4</td>\n",
       "      <td>Syawalludin</td>\n",
       "      <td>Dataran Tinggi</td>\n",
       "      <td>2bd66dd6-5ac6-40ad-968e-1271da13db32</td>\n",
       "      <td>4</td>\n",
       "    </tr>\n",
       "    <tr>\n",
       "      <th>1</th>\n",
       "      <td>2345a62a-8d3a-4f7b-aad5-7e50670a817b</td>\n",
       "      <td>Auva</td>\n",
       "      <td>Irigasi</td>\n",
       "      <td>b0af16ed-0633-42a2-afc7-2c5e48db5a48</td>\n",
       "      <td>4</td>\n",
       "    </tr>\n",
       "    <tr>\n",
       "      <th>2</th>\n",
       "      <td>58c5ee91-37b5-4818-8815-872eae86f21c</td>\n",
       "      <td>Budiman</td>\n",
       "      <td>Dataran Tinggi</td>\n",
       "      <td>2bd66dd6-5ac6-40ad-968e-1271da13db32</td>\n",
       "      <td>5</td>\n",
       "    </tr>\n",
       "    <tr>\n",
       "      <th>3</th>\n",
       "      <td>7488ab52-bc5b-4ff2-9427-a01b64145c6c</td>\n",
       "      <td>Suryadi</td>\n",
       "      <td>Dataran Rendah</td>\n",
       "      <td>c74c14bf-d6ae-455d-842c-6c02cd638349</td>\n",
       "      <td>3</td>\n",
       "    </tr>\n",
       "    <tr>\n",
       "      <th>4</th>\n",
       "      <td>a5d3b9fe-eb1f-4c7e-84fb-fd95a39697a7</td>\n",
       "      <td>Kevin</td>\n",
       "      <td>Ladang</td>\n",
       "      <td>b0af16ed-0633-42a2-afc7-2c5e48db5a48</td>\n",
       "      <td>4</td>\n",
       "    </tr>\n",
       "    <tr>\n",
       "      <th>5</th>\n",
       "      <td>cecb6e32-8f30-4806-a16c-a6073966ad65</td>\n",
       "      <td>Amriz</td>\n",
       "      <td>Ladang</td>\n",
       "      <td>c74c14bf-d6ae-455d-842c-6c02cd638349</td>\n",
       "      <td>5</td>\n",
       "    </tr>\n",
       "    <tr>\n",
       "      <th>6</th>\n",
       "      <td>e9ef08e2-9d2d-49d4-8934-7f259cbbf867</td>\n",
       "      <td>Asepuri</td>\n",
       "      <td>Dataran Rendah</td>\n",
       "      <td>c74c14bf-d6ae-455d-842c-6c02cd638349</td>\n",
       "      <td>2</td>\n",
       "    </tr>\n",
       "  </tbody>\n",
       "</table>\n",
       "</div>"
      ],
      "text/plain": [
       "                              farmer_id         nama     jenis_sawah  \\\n",
       "0  1000a253-a43c-4ab3-91f7-8c370e01b9c4  Syawalludin  Dataran Tinggi   \n",
       "1  2345a62a-8d3a-4f7b-aad5-7e50670a817b         Auva         Irigasi   \n",
       "2  58c5ee91-37b5-4818-8815-872eae86f21c      Budiman  Dataran Tinggi   \n",
       "3  7488ab52-bc5b-4ff2-9427-a01b64145c6c      Suryadi  Dataran Rendah   \n",
       "4  a5d3b9fe-eb1f-4c7e-84fb-fd95a39697a7        Kevin          Ladang   \n",
       "5  cecb6e32-8f30-4806-a16c-a6073966ad65        Amriz          Ladang   \n",
       "6  e9ef08e2-9d2d-49d4-8934-7f259cbbf867      Asepuri  Dataran Rendah   \n",
       "\n",
       "                                user_id  rating  \n",
       "0  2bd66dd6-5ac6-40ad-968e-1271da13db32       4  \n",
       "1  b0af16ed-0633-42a2-afc7-2c5e48db5a48       4  \n",
       "2  2bd66dd6-5ac6-40ad-968e-1271da13db32       5  \n",
       "3  c74c14bf-d6ae-455d-842c-6c02cd638349       3  \n",
       "4  b0af16ed-0633-42a2-afc7-2c5e48db5a48       4  \n",
       "5  c74c14bf-d6ae-455d-842c-6c02cd638349       5  \n",
       "6  c74c14bf-d6ae-455d-842c-6c02cd638349       2  "
      ]
     },
     "execution_count": 193,
     "metadata": {},
     "output_type": "execute_result"
    }
   ],
   "source": [
    "data = pd.merge(farmer_df, rating_df, left_on='id', right_on='farmer_id', how='left')\n",
    "data = data[['id_x', 'nama', 'jenis_sawah', 'user_id', 'rating']]\n",
    "data = data.rename(columns={'id_x': 'farmer_id'})\n",
    "data"
   ]
  },
  {
   "cell_type": "markdown",
   "metadata": {},
   "source": [
    "## **Content-Based Filtering**"
   ]
  },
  {
   "cell_type": "code",
   "execution_count": 194,
   "metadata": {},
   "outputs": [
    {
     "data": {
      "text/html": [
       "<div>\n",
       "<style scoped>\n",
       "    .dataframe tbody tr th:only-of-type {\n",
       "        vertical-align: middle;\n",
       "    }\n",
       "\n",
       "    .dataframe tbody tr th {\n",
       "        vertical-align: top;\n",
       "    }\n",
       "\n",
       "    .dataframe thead th {\n",
       "        text-align: right;\n",
       "    }\n",
       "</style>\n",
       "<table border=\"1\" class=\"dataframe\">\n",
       "  <thead>\n",
       "    <tr style=\"text-align: right;\">\n",
       "      <th></th>\n",
       "      <th>farmer_id</th>\n",
       "      <th>nama</th>\n",
       "      <th>jenis_sawah</th>\n",
       "    </tr>\n",
       "  </thead>\n",
       "  <tbody>\n",
       "    <tr>\n",
       "      <th>0</th>\n",
       "      <td>1000a253-a43c-4ab3-91f7-8c370e01b9c4</td>\n",
       "      <td>Syawalludin</td>\n",
       "      <td>datarantinggi</td>\n",
       "    </tr>\n",
       "    <tr>\n",
       "      <th>1</th>\n",
       "      <td>2345a62a-8d3a-4f7b-aad5-7e50670a817b</td>\n",
       "      <td>Auva</td>\n",
       "      <td>irigasi</td>\n",
       "    </tr>\n",
       "    <tr>\n",
       "      <th>2</th>\n",
       "      <td>58c5ee91-37b5-4818-8815-872eae86f21c</td>\n",
       "      <td>Budiman</td>\n",
       "      <td>datarantinggi</td>\n",
       "    </tr>\n",
       "    <tr>\n",
       "      <th>3</th>\n",
       "      <td>7488ab52-bc5b-4ff2-9427-a01b64145c6c</td>\n",
       "      <td>Suryadi</td>\n",
       "      <td>dataranrendah</td>\n",
       "    </tr>\n",
       "    <tr>\n",
       "      <th>4</th>\n",
       "      <td>a5d3b9fe-eb1f-4c7e-84fb-fd95a39697a7</td>\n",
       "      <td>Kevin</td>\n",
       "      <td>ladang</td>\n",
       "    </tr>\n",
       "    <tr>\n",
       "      <th>5</th>\n",
       "      <td>cecb6e32-8f30-4806-a16c-a6073966ad65</td>\n",
       "      <td>Amriz</td>\n",
       "      <td>ladang</td>\n",
       "    </tr>\n",
       "    <tr>\n",
       "      <th>6</th>\n",
       "      <td>e9ef08e2-9d2d-49d4-8934-7f259cbbf867</td>\n",
       "      <td>Asepuri</td>\n",
       "      <td>dataranrendah</td>\n",
       "    </tr>\n",
       "  </tbody>\n",
       "</table>\n",
       "</div>"
      ],
      "text/plain": [
       "                              farmer_id         nama    jenis_sawah\n",
       "0  1000a253-a43c-4ab3-91f7-8c370e01b9c4  Syawalludin  datarantinggi\n",
       "1  2345a62a-8d3a-4f7b-aad5-7e50670a817b         Auva        irigasi\n",
       "2  58c5ee91-37b5-4818-8815-872eae86f21c      Budiman  datarantinggi\n",
       "3  7488ab52-bc5b-4ff2-9427-a01b64145c6c      Suryadi  dataranrendah\n",
       "4  a5d3b9fe-eb1f-4c7e-84fb-fd95a39697a7        Kevin         ladang\n",
       "5  cecb6e32-8f30-4806-a16c-a6073966ad65        Amriz         ladang\n",
       "6  e9ef08e2-9d2d-49d4-8934-7f259cbbf867      Asepuri  dataranrendah"
      ]
     },
     "execution_count": 194,
     "metadata": {},
     "output_type": "execute_result"
    }
   ],
   "source": [
    "cb_df = data[['farmer_id', 'nama', 'jenis_sawah']].copy()\n",
    "cb_df.drop_duplicates(subset=['farmer_id'], inplace=True)\n",
    "cb_df['jenis_sawah'] = cb_df['jenis_sawah'].apply(lambda x: x.lower()).str.replace(' ', '')\n",
    "cb_df"
   ]
  },
  {
   "cell_type": "code",
   "execution_count": 195,
   "metadata": {},
   "outputs": [
    {
     "data": {
      "text/plain": [
       "array(['dataranrendah', 'datarantinggi', 'irigasi', 'ladang'],\n",
       "      dtype=object)"
      ]
     },
     "execution_count": 195,
     "metadata": {},
     "output_type": "execute_result"
    }
   ],
   "source": [
    "tfid = TfidfVectorizer()\n",
    "\n",
    "tfid.fit(cb_df['jenis_sawah'])\n",
    "\n",
    "tfid.get_feature_names_out()"
   ]
  },
  {
   "cell_type": "code",
   "execution_count": 196,
   "metadata": {},
   "outputs": [
    {
     "name": "stdout",
     "output_type": "stream",
     "text": [
      "(7, 4)\n"
     ]
    }
   ],
   "source": [
    "tfidf_vectors = tfid.transform(cb_df['jenis_sawah'])\n",
    "\n",
    "print(tfidf_vectors.shape)"
   ]
  },
  {
   "cell_type": "code",
   "execution_count": 197,
   "metadata": {},
   "outputs": [
    {
     "data": {
      "text/plain": [
       "matrix([[0., 1., 0., 0.],\n",
       "        [0., 0., 1., 0.],\n",
       "        [0., 1., 0., 0.],\n",
       "        [1., 0., 0., 0.],\n",
       "        [0., 0., 0., 1.],\n",
       "        [0., 0., 0., 1.],\n",
       "        [1., 0., 0., 0.]])"
      ]
     },
     "execution_count": 197,
     "metadata": {},
     "output_type": "execute_result"
    }
   ],
   "source": [
    "tfidf_matrix = tfidf_vectors.todense()\n",
    "tfidf_matrix"
   ]
  },
  {
   "cell_type": "code",
   "execution_count": 198,
   "metadata": {},
   "outputs": [
    {
     "data": {
      "text/html": [
       "<div>\n",
       "<style scoped>\n",
       "    .dataframe tbody tr th:only-of-type {\n",
       "        vertical-align: middle;\n",
       "    }\n",
       "\n",
       "    .dataframe tbody tr th {\n",
       "        vertical-align: top;\n",
       "    }\n",
       "\n",
       "    .dataframe thead th {\n",
       "        text-align: right;\n",
       "    }\n",
       "</style>\n",
       "<table border=\"1\" class=\"dataframe\">\n",
       "  <thead>\n",
       "    <tr style=\"text-align: right;\">\n",
       "      <th></th>\n",
       "      <th>dataranrendah</th>\n",
       "      <th>datarantinggi</th>\n",
       "      <th>irigasi</th>\n",
       "      <th>ladang</th>\n",
       "    </tr>\n",
       "    <tr>\n",
       "      <th>nama</th>\n",
       "      <th></th>\n",
       "      <th></th>\n",
       "      <th></th>\n",
       "      <th></th>\n",
       "    </tr>\n",
       "  </thead>\n",
       "  <tbody>\n",
       "    <tr>\n",
       "      <th>Syawalludin</th>\n",
       "      <td>0.0</td>\n",
       "      <td>1.0</td>\n",
       "      <td>0.0</td>\n",
       "      <td>0.0</td>\n",
       "    </tr>\n",
       "    <tr>\n",
       "      <th>Auva</th>\n",
       "      <td>0.0</td>\n",
       "      <td>0.0</td>\n",
       "      <td>1.0</td>\n",
       "      <td>0.0</td>\n",
       "    </tr>\n",
       "    <tr>\n",
       "      <th>Budiman</th>\n",
       "      <td>0.0</td>\n",
       "      <td>1.0</td>\n",
       "      <td>0.0</td>\n",
       "      <td>0.0</td>\n",
       "    </tr>\n",
       "    <tr>\n",
       "      <th>Suryadi</th>\n",
       "      <td>1.0</td>\n",
       "      <td>0.0</td>\n",
       "      <td>0.0</td>\n",
       "      <td>0.0</td>\n",
       "    </tr>\n",
       "    <tr>\n",
       "      <th>Kevin</th>\n",
       "      <td>0.0</td>\n",
       "      <td>0.0</td>\n",
       "      <td>0.0</td>\n",
       "      <td>1.0</td>\n",
       "    </tr>\n",
       "    <tr>\n",
       "      <th>Amriz</th>\n",
       "      <td>0.0</td>\n",
       "      <td>0.0</td>\n",
       "      <td>0.0</td>\n",
       "      <td>1.0</td>\n",
       "    </tr>\n",
       "    <tr>\n",
       "      <th>Asepuri</th>\n",
       "      <td>1.0</td>\n",
       "      <td>0.0</td>\n",
       "      <td>0.0</td>\n",
       "      <td>0.0</td>\n",
       "    </tr>\n",
       "  </tbody>\n",
       "</table>\n",
       "</div>"
      ],
      "text/plain": [
       "             dataranrendah  datarantinggi  irigasi  ladang\n",
       "nama                                                      \n",
       "Syawalludin            0.0            1.0      0.0     0.0\n",
       "Auva                   0.0            0.0      1.0     0.0\n",
       "Budiman                0.0            1.0      0.0     0.0\n",
       "Suryadi                1.0            0.0      0.0     0.0\n",
       "Kevin                  0.0            0.0      0.0     1.0\n",
       "Amriz                  0.0            0.0      0.0     1.0\n",
       "Asepuri                1.0            0.0      0.0     0.0"
      ]
     },
     "execution_count": 198,
     "metadata": {},
     "output_type": "execute_result"
    }
   ],
   "source": [
    "pd.DataFrame(tfidf_matrix, columns=tfid.get_feature_names_out(), index=cb_df['nama'])"
   ]
  },
  {
   "cell_type": "code",
   "execution_count": 199,
   "metadata": {},
   "outputs": [
    {
     "data": {
      "text/plain": [
       "array([[1., 0., 1., 0., 0., 0., 0.],\n",
       "       [0., 1., 0., 0., 0., 0., 0.],\n",
       "       [1., 0., 1., 0., 0., 0., 0.],\n",
       "       [0., 0., 0., 1., 0., 0., 1.],\n",
       "       [0., 0., 0., 0., 1., 1., 0.],\n",
       "       [0., 0., 0., 0., 1., 1., 0.],\n",
       "       [0., 0., 0., 1., 0., 0., 1.]])"
      ]
     },
     "execution_count": 199,
     "metadata": {},
     "output_type": "execute_result"
    }
   ],
   "source": [
    "cosine_sim = cosine_similarity(tfidf_vectors)\n",
    "cosine_sim"
   ]
  },
  {
   "cell_type": "code",
   "execution_count": 200,
   "metadata": {},
   "outputs": [
    {
     "name": "stdout",
     "output_type": "stream",
     "text": [
      "(7, 7)\n"
     ]
    },
    {
     "data": {
      "text/html": [
       "<div>\n",
       "<style scoped>\n",
       "    .dataframe tbody tr th:only-of-type {\n",
       "        vertical-align: middle;\n",
       "    }\n",
       "\n",
       "    .dataframe tbody tr th {\n",
       "        vertical-align: top;\n",
       "    }\n",
       "\n",
       "    .dataframe thead th {\n",
       "        text-align: right;\n",
       "    }\n",
       "</style>\n",
       "<table border=\"1\" class=\"dataframe\">\n",
       "  <thead>\n",
       "    <tr style=\"text-align: right;\">\n",
       "      <th>nama</th>\n",
       "      <th>Syawalludin</th>\n",
       "      <th>Auva</th>\n",
       "      <th>Budiman</th>\n",
       "      <th>Suryadi</th>\n",
       "      <th>Kevin</th>\n",
       "      <th>Amriz</th>\n",
       "      <th>Asepuri</th>\n",
       "    </tr>\n",
       "    <tr>\n",
       "      <th>nama</th>\n",
       "      <th></th>\n",
       "      <th></th>\n",
       "      <th></th>\n",
       "      <th></th>\n",
       "      <th></th>\n",
       "      <th></th>\n",
       "      <th></th>\n",
       "    </tr>\n",
       "  </thead>\n",
       "  <tbody>\n",
       "    <tr>\n",
       "      <th>Syawalludin</th>\n",
       "      <td>1.0</td>\n",
       "      <td>0.0</td>\n",
       "      <td>1.0</td>\n",
       "      <td>0.0</td>\n",
       "      <td>0.0</td>\n",
       "      <td>0.0</td>\n",
       "      <td>0.0</td>\n",
       "    </tr>\n",
       "    <tr>\n",
       "      <th>Auva</th>\n",
       "      <td>0.0</td>\n",
       "      <td>1.0</td>\n",
       "      <td>0.0</td>\n",
       "      <td>0.0</td>\n",
       "      <td>0.0</td>\n",
       "      <td>0.0</td>\n",
       "      <td>0.0</td>\n",
       "    </tr>\n",
       "    <tr>\n",
       "      <th>Budiman</th>\n",
       "      <td>1.0</td>\n",
       "      <td>0.0</td>\n",
       "      <td>1.0</td>\n",
       "      <td>0.0</td>\n",
       "      <td>0.0</td>\n",
       "      <td>0.0</td>\n",
       "      <td>0.0</td>\n",
       "    </tr>\n",
       "    <tr>\n",
       "      <th>Suryadi</th>\n",
       "      <td>0.0</td>\n",
       "      <td>0.0</td>\n",
       "      <td>0.0</td>\n",
       "      <td>1.0</td>\n",
       "      <td>0.0</td>\n",
       "      <td>0.0</td>\n",
       "      <td>1.0</td>\n",
       "    </tr>\n",
       "    <tr>\n",
       "      <th>Kevin</th>\n",
       "      <td>0.0</td>\n",
       "      <td>0.0</td>\n",
       "      <td>0.0</td>\n",
       "      <td>0.0</td>\n",
       "      <td>1.0</td>\n",
       "      <td>1.0</td>\n",
       "      <td>0.0</td>\n",
       "    </tr>\n",
       "    <tr>\n",
       "      <th>Amriz</th>\n",
       "      <td>0.0</td>\n",
       "      <td>0.0</td>\n",
       "      <td>0.0</td>\n",
       "      <td>0.0</td>\n",
       "      <td>1.0</td>\n",
       "      <td>1.0</td>\n",
       "      <td>0.0</td>\n",
       "    </tr>\n",
       "    <tr>\n",
       "      <th>Asepuri</th>\n",
       "      <td>0.0</td>\n",
       "      <td>0.0</td>\n",
       "      <td>0.0</td>\n",
       "      <td>1.0</td>\n",
       "      <td>0.0</td>\n",
       "      <td>0.0</td>\n",
       "      <td>1.0</td>\n",
       "    </tr>\n",
       "  </tbody>\n",
       "</table>\n",
       "</div>"
      ],
      "text/plain": [
       "nama         Syawalludin  Auva  Budiman  Suryadi  Kevin  Amriz  Asepuri\n",
       "nama                                                                   \n",
       "Syawalludin          1.0   0.0      1.0      0.0    0.0    0.0      0.0\n",
       "Auva                 0.0   1.0      0.0      0.0    0.0    0.0      0.0\n",
       "Budiman              1.0   0.0      1.0      0.0    0.0    0.0      0.0\n",
       "Suryadi              0.0   0.0      0.0      1.0    0.0    0.0      1.0\n",
       "Kevin                0.0   0.0      0.0      0.0    1.0    1.0      0.0\n",
       "Amriz                0.0   0.0      0.0      0.0    1.0    1.0      0.0\n",
       "Asepuri              0.0   0.0      0.0      1.0    0.0    0.0      1.0"
      ]
     },
     "execution_count": 200,
     "metadata": {},
     "output_type": "execute_result"
    }
   ],
   "source": [
    "cosine_sim_df = pd.DataFrame(cosine_sim, columns=cb_df['nama'], index=cb_df['nama'])\n",
    "\n",
    "print(cosine_sim_df.shape)\n",
    "\n",
    "cosine_sim_df"
   ]
  },
  {
   "cell_type": "code",
   "execution_count": 201,
   "metadata": {},
   "outputs": [],
   "source": [
    "def get_cb_recommendations(farmer_name, similarity_data=cosine_sim_df, items=cb_df[['nama', 'jenis_sawah']], k=5):\n",
    "  index = similarity_data.loc[farmer_name].to_numpy().argpartition(\n",
    "      range(-1, -k, -1))\n",
    "  \n",
    "  closest = similarity_data.columns[index[-1:-(k+2):-1]]\n",
    "\n",
    "  closest = closest.drop(farmer_name, errors='ignore')\n",
    "\n",
    "  return pd.DataFrame(closest).merge(items).head(k)\n"
   ]
  },
  {
   "cell_type": "code",
   "execution_count": 202,
   "metadata": {},
   "outputs": [
    {
     "data": {
      "text/html": [
       "<div>\n",
       "<style scoped>\n",
       "    .dataframe tbody tr th:only-of-type {\n",
       "        vertical-align: middle;\n",
       "    }\n",
       "\n",
       "    .dataframe tbody tr th {\n",
       "        vertical-align: top;\n",
       "    }\n",
       "\n",
       "    .dataframe thead th {\n",
       "        text-align: right;\n",
       "    }\n",
       "</style>\n",
       "<table border=\"1\" class=\"dataframe\">\n",
       "  <thead>\n",
       "    <tr style=\"text-align: right;\">\n",
       "      <th></th>\n",
       "      <th>nama</th>\n",
       "      <th>jenis_sawah</th>\n",
       "    </tr>\n",
       "  </thead>\n",
       "  <tbody>\n",
       "    <tr>\n",
       "      <th>0</th>\n",
       "      <td>Budiman</td>\n",
       "      <td>datarantinggi</td>\n",
       "    </tr>\n",
       "    <tr>\n",
       "      <th>1</th>\n",
       "      <td>Auva</td>\n",
       "      <td>irigasi</td>\n",
       "    </tr>\n",
       "    <tr>\n",
       "      <th>2</th>\n",
       "      <td>Asepuri</td>\n",
       "      <td>dataranrendah</td>\n",
       "    </tr>\n",
       "    <tr>\n",
       "      <th>3</th>\n",
       "      <td>Amriz</td>\n",
       "      <td>ladang</td>\n",
       "    </tr>\n",
       "    <tr>\n",
       "      <th>4</th>\n",
       "      <td>Suryadi</td>\n",
       "      <td>dataranrendah</td>\n",
       "    </tr>\n",
       "  </tbody>\n",
       "</table>\n",
       "</div>"
      ],
      "text/plain": [
       "      nama    jenis_sawah\n",
       "0  Budiman  datarantinggi\n",
       "1     Auva        irigasi\n",
       "2  Asepuri  dataranrendah\n",
       "3    Amriz         ladang\n",
       "4  Suryadi  dataranrendah"
      ]
     },
     "execution_count": 202,
     "metadata": {},
     "output_type": "execute_result"
    }
   ],
   "source": [
    "get_cb_recommendations('Syawalludin', cosine_sim_df)"
   ]
  },
  {
   "cell_type": "markdown",
   "metadata": {},
   "source": [
    "## **Collaborative Filtering**"
   ]
  },
  {
   "cell_type": "code",
   "execution_count": 203,
   "metadata": {},
   "outputs": [],
   "source": [
    "collab_df = data[['user_id', 'farmer_id', 'rating']].copy()\n",
    "collab_df.dropna(inplace=True)"
   ]
  },
  {
   "cell_type": "code",
   "execution_count": 204,
   "metadata": {},
   "outputs": [
    {
     "name": "stdout",
     "output_type": "stream",
     "text": [
      "jumlah user yang memberikan rating:  3\n"
     ]
    },
    {
     "data": {
      "text/plain": [
       "[('2bd66dd6-5ac6-40ad-968e-1271da13db32', 0),\n",
       " ('b0af16ed-0633-42a2-afc7-2c5e48db5a48', 1),\n",
       " ('c74c14bf-d6ae-455d-842c-6c02cd638349', 2)]"
      ]
     },
     "execution_count": 204,
     "metadata": {},
     "output_type": "execute_result"
    }
   ],
   "source": [
    "user_id = collab_df['user_id'].unique().tolist()\n",
    "print(\"jumlah user yang memberikan rating: \", len(user_id))\n",
    "\n",
    "user_id_encoded = {x: i for i, x in enumerate(user_id)}\n",
    "list(user_id_encoded.items())[:5]"
   ]
  },
  {
   "cell_type": "code",
   "execution_count": 205,
   "metadata": {},
   "outputs": [
    {
     "name": "stdout",
     "output_type": "stream",
     "text": [
      "jumlah farmer yang diberi rating:  7\n"
     ]
    },
    {
     "data": {
      "text/plain": [
       "[('1000a253-a43c-4ab3-91f7-8c370e01b9c4', 0),\n",
       " ('2345a62a-8d3a-4f7b-aad5-7e50670a817b', 1),\n",
       " ('58c5ee91-37b5-4818-8815-872eae86f21c', 2),\n",
       " ('7488ab52-bc5b-4ff2-9427-a01b64145c6c', 3),\n",
       " ('a5d3b9fe-eb1f-4c7e-84fb-fd95a39697a7', 4)]"
      ]
     },
     "execution_count": 205,
     "metadata": {},
     "output_type": "execute_result"
    }
   ],
   "source": [
    "farmer_id = collab_df['farmer_id'].unique().tolist()\n",
    "print(\"jumlah farmer yang diberi rating: \", len(farmer_id))\n",
    "\n",
    "farmer_id_encoded = {x: i for i, x in enumerate(farmer_id)}\n",
    "list(farmer_id_encoded.items())[:5]"
   ]
  },
  {
   "cell_type": "code",
   "execution_count": 206,
   "metadata": {},
   "outputs": [
    {
     "data": {
      "text/html": [
       "<div>\n",
       "<style scoped>\n",
       "    .dataframe tbody tr th:only-of-type {\n",
       "        vertical-align: middle;\n",
       "    }\n",
       "\n",
       "    .dataframe tbody tr th {\n",
       "        vertical-align: top;\n",
       "    }\n",
       "\n",
       "    .dataframe thead th {\n",
       "        text-align: right;\n",
       "    }\n",
       "</style>\n",
       "<table border=\"1\" class=\"dataframe\">\n",
       "  <thead>\n",
       "    <tr style=\"text-align: right;\">\n",
       "      <th></th>\n",
       "      <th>user_id</th>\n",
       "      <th>farmer_id</th>\n",
       "      <th>rating</th>\n",
       "      <th>user</th>\n",
       "      <th>farmer</th>\n",
       "    </tr>\n",
       "  </thead>\n",
       "  <tbody>\n",
       "    <tr>\n",
       "      <th>0</th>\n",
       "      <td>2bd66dd6-5ac6-40ad-968e-1271da13db32</td>\n",
       "      <td>1000a253-a43c-4ab3-91f7-8c370e01b9c4</td>\n",
       "      <td>4</td>\n",
       "      <td>0</td>\n",
       "      <td>0</td>\n",
       "    </tr>\n",
       "    <tr>\n",
       "      <th>1</th>\n",
       "      <td>b0af16ed-0633-42a2-afc7-2c5e48db5a48</td>\n",
       "      <td>2345a62a-8d3a-4f7b-aad5-7e50670a817b</td>\n",
       "      <td>4</td>\n",
       "      <td>1</td>\n",
       "      <td>1</td>\n",
       "    </tr>\n",
       "    <tr>\n",
       "      <th>2</th>\n",
       "      <td>2bd66dd6-5ac6-40ad-968e-1271da13db32</td>\n",
       "      <td>58c5ee91-37b5-4818-8815-872eae86f21c</td>\n",
       "      <td>5</td>\n",
       "      <td>0</td>\n",
       "      <td>2</td>\n",
       "    </tr>\n",
       "    <tr>\n",
       "      <th>3</th>\n",
       "      <td>c74c14bf-d6ae-455d-842c-6c02cd638349</td>\n",
       "      <td>7488ab52-bc5b-4ff2-9427-a01b64145c6c</td>\n",
       "      <td>3</td>\n",
       "      <td>2</td>\n",
       "      <td>3</td>\n",
       "    </tr>\n",
       "    <tr>\n",
       "      <th>4</th>\n",
       "      <td>b0af16ed-0633-42a2-afc7-2c5e48db5a48</td>\n",
       "      <td>a5d3b9fe-eb1f-4c7e-84fb-fd95a39697a7</td>\n",
       "      <td>4</td>\n",
       "      <td>1</td>\n",
       "      <td>4</td>\n",
       "    </tr>\n",
       "    <tr>\n",
       "      <th>5</th>\n",
       "      <td>c74c14bf-d6ae-455d-842c-6c02cd638349</td>\n",
       "      <td>cecb6e32-8f30-4806-a16c-a6073966ad65</td>\n",
       "      <td>5</td>\n",
       "      <td>2</td>\n",
       "      <td>5</td>\n",
       "    </tr>\n",
       "    <tr>\n",
       "      <th>6</th>\n",
       "      <td>c74c14bf-d6ae-455d-842c-6c02cd638349</td>\n",
       "      <td>e9ef08e2-9d2d-49d4-8934-7f259cbbf867</td>\n",
       "      <td>2</td>\n",
       "      <td>2</td>\n",
       "      <td>6</td>\n",
       "    </tr>\n",
       "  </tbody>\n",
       "</table>\n",
       "</div>"
      ],
      "text/plain": [
       "                                user_id                             farmer_id  \\\n",
       "0  2bd66dd6-5ac6-40ad-968e-1271da13db32  1000a253-a43c-4ab3-91f7-8c370e01b9c4   \n",
       "1  b0af16ed-0633-42a2-afc7-2c5e48db5a48  2345a62a-8d3a-4f7b-aad5-7e50670a817b   \n",
       "2  2bd66dd6-5ac6-40ad-968e-1271da13db32  58c5ee91-37b5-4818-8815-872eae86f21c   \n",
       "3  c74c14bf-d6ae-455d-842c-6c02cd638349  7488ab52-bc5b-4ff2-9427-a01b64145c6c   \n",
       "4  b0af16ed-0633-42a2-afc7-2c5e48db5a48  a5d3b9fe-eb1f-4c7e-84fb-fd95a39697a7   \n",
       "5  c74c14bf-d6ae-455d-842c-6c02cd638349  cecb6e32-8f30-4806-a16c-a6073966ad65   \n",
       "6  c74c14bf-d6ae-455d-842c-6c02cd638349  e9ef08e2-9d2d-49d4-8934-7f259cbbf867   \n",
       "\n",
       "   rating  user  farmer  \n",
       "0       4     0       0  \n",
       "1       4     1       1  \n",
       "2       5     0       2  \n",
       "3       3     2       3  \n",
       "4       4     1       4  \n",
       "5       5     2       5  \n",
       "6       2     2       6  "
      ]
     },
     "execution_count": 206,
     "metadata": {},
     "output_type": "execute_result"
    }
   ],
   "source": [
    "collab_df['user'] = collab_df['user_id'].map(user_id_encoded)\n",
    "collab_df['farmer'] = collab_df['farmer_id'].map(farmer_id_encoded)\n",
    "\n",
    "collab_df"
   ]
  },
  {
   "cell_type": "code",
   "execution_count": 207,
   "metadata": {},
   "outputs": [
    {
     "data": {
      "text/html": [
       "<div>\n",
       "<style scoped>\n",
       "    .dataframe tbody tr th:only-of-type {\n",
       "        vertical-align: middle;\n",
       "    }\n",
       "\n",
       "    .dataframe tbody tr th {\n",
       "        vertical-align: top;\n",
       "    }\n",
       "\n",
       "    .dataframe thead th {\n",
       "        text-align: right;\n",
       "    }\n",
       "</style>\n",
       "<table border=\"1\" class=\"dataframe\">\n",
       "  <thead>\n",
       "    <tr style=\"text-align: right;\">\n",
       "      <th></th>\n",
       "      <th>user_id</th>\n",
       "      <th>farmer_id</th>\n",
       "      <th>rating</th>\n",
       "      <th>user</th>\n",
       "      <th>farmer</th>\n",
       "    </tr>\n",
       "  </thead>\n",
       "  <tbody>\n",
       "    <tr>\n",
       "      <th>0</th>\n",
       "      <td>2bd66dd6-5ac6-40ad-968e-1271da13db32</td>\n",
       "      <td>1000a253-a43c-4ab3-91f7-8c370e01b9c4</td>\n",
       "      <td>4</td>\n",
       "      <td>0</td>\n",
       "      <td>0</td>\n",
       "    </tr>\n",
       "    <tr>\n",
       "      <th>1</th>\n",
       "      <td>b0af16ed-0633-42a2-afc7-2c5e48db5a48</td>\n",
       "      <td>2345a62a-8d3a-4f7b-aad5-7e50670a817b</td>\n",
       "      <td>4</td>\n",
       "      <td>1</td>\n",
       "      <td>1</td>\n",
       "    </tr>\n",
       "    <tr>\n",
       "      <th>5</th>\n",
       "      <td>c74c14bf-d6ae-455d-842c-6c02cd638349</td>\n",
       "      <td>cecb6e32-8f30-4806-a16c-a6073966ad65</td>\n",
       "      <td>5</td>\n",
       "      <td>2</td>\n",
       "      <td>5</td>\n",
       "    </tr>\n",
       "    <tr>\n",
       "      <th>2</th>\n",
       "      <td>2bd66dd6-5ac6-40ad-968e-1271da13db32</td>\n",
       "      <td>58c5ee91-37b5-4818-8815-872eae86f21c</td>\n",
       "      <td>5</td>\n",
       "      <td>0</td>\n",
       "      <td>2</td>\n",
       "    </tr>\n",
       "    <tr>\n",
       "      <th>4</th>\n",
       "      <td>b0af16ed-0633-42a2-afc7-2c5e48db5a48</td>\n",
       "      <td>a5d3b9fe-eb1f-4c7e-84fb-fd95a39697a7</td>\n",
       "      <td>4</td>\n",
       "      <td>1</td>\n",
       "      <td>4</td>\n",
       "    </tr>\n",
       "  </tbody>\n",
       "</table>\n",
       "</div>"
      ],
      "text/plain": [
       "                                user_id                             farmer_id  \\\n",
       "0  2bd66dd6-5ac6-40ad-968e-1271da13db32  1000a253-a43c-4ab3-91f7-8c370e01b9c4   \n",
       "1  b0af16ed-0633-42a2-afc7-2c5e48db5a48  2345a62a-8d3a-4f7b-aad5-7e50670a817b   \n",
       "5  c74c14bf-d6ae-455d-842c-6c02cd638349  cecb6e32-8f30-4806-a16c-a6073966ad65   \n",
       "2  2bd66dd6-5ac6-40ad-968e-1271da13db32  58c5ee91-37b5-4818-8815-872eae86f21c   \n",
       "4  b0af16ed-0633-42a2-afc7-2c5e48db5a48  a5d3b9fe-eb1f-4c7e-84fb-fd95a39697a7   \n",
       "\n",
       "   rating  user  farmer  \n",
       "0       4     0       0  \n",
       "1       4     1       1  \n",
       "5       5     2       5  \n",
       "2       5     0       2  \n",
       "4       4     1       4  "
      ]
     },
     "execution_count": 207,
     "metadata": {},
     "output_type": "execute_result"
    }
   ],
   "source": [
    "collab_df = collab_df.sample(frac=1, random_state=42)\n",
    "collab_df.head()"
   ]
  },
  {
   "cell_type": "code",
   "execution_count": 208,
   "metadata": {},
   "outputs": [
    {
     "name": "stdout",
     "output_type": "stream",
     "text": [
      "[[0 0]\n",
      " [1 1]\n",
      " [2 5]\n",
      " [0 2]\n",
      " [1 4]\n",
      " [2 3]\n",
      " [2 6]] [0.66666667 0.66666667 1.         1.         0.66666667 0.33333333\n",
      " 0.        ]\n",
      "Jumlah data train:  5\n",
      "Jumlah data val:  2\n"
     ]
    }
   ],
   "source": [
    "x = collab_df[['user', 'farmer']].values\n",
    "\n",
    "max_rating = collab_df['rating'].max()\n",
    "min_rating = collab_df['rating'].min()\n",
    "\n",
    "y = collab_df['rating'].apply(lambda x: (\n",
    "  x - min_rating) / (max_rating - min_rating)).values\n",
    "\n",
    "train_indices = int(0.8 * collab_df.shape[0])\n",
    "\n",
    "x_train, x_val, y_train, y_val = (\n",
    "  x[:train_indices],\n",
    "  x[train_indices:],\n",
    "  y[:train_indices],\n",
    "  y[train_indices:]\n",
    ")\n",
    "\n",
    "print(x, y)\n",
    "print(\"Jumlah data train: \", len(x_train))\n",
    "print(\"Jumlah data val: \", len(x_val))"
   ]
  },
  {
   "cell_type": "code",
   "execution_count": 209,
   "metadata": {},
   "outputs": [
    {
     "name": "stdout",
     "output_type": "stream",
     "text": [
      "Model: \"recommender_net_4\"\n",
      "_________________________________________________________________\n",
      " Layer (type)                Output Shape              Param #   \n",
      "=================================================================\n",
      " embedding_16 (Embedding)    multiple                  300       \n",
      "                                                                 \n",
      " embedding_17 (Embedding)    multiple                  3         \n",
      "                                                                 \n",
      " embedding_18 (Embedding)    multiple                  700       \n",
      "                                                                 \n",
      " embedding_19 (Embedding)    multiple                  7         \n",
      "                                                                 \n",
      "=================================================================\n",
      "Total params: 1,010\n",
      "Trainable params: 1,010\n",
      "Non-trainable params: 0\n",
      "_________________________________________________________________\n"
     ]
    }
   ],
   "source": [
    "class RecommenderNet(keras.Model):\n",
    "  def __init__(self, num_users, num_farmer, embedding_size, **kwargs):\n",
    "    super(RecommenderNet, self).__init__(**kwargs)\n",
    "    self.num_users = num_users\n",
    "    self.num_farmer = num_farmer\n",
    "    self.embedding_size = embedding_size\n",
    "    self.user_embedding = layers.Embedding(\n",
    "        num_users,\n",
    "        embedding_size,\n",
    "        embeddings_initializer=\"he_normal\",\n",
    "        embeddings_regularizer=keras.regularizers.l2(1e-6),\n",
    "    )\n",
    "    self.user_bias = layers.Embedding(num_users, 1)\n",
    "    self.farmer_embedding = layers.Embedding(\n",
    "        num_farmer,\n",
    "        embedding_size,\n",
    "        embeddings_initializer=\"he_normal\",\n",
    "        embeddings_regularizer=keras.regularizers.l2(1e-6),\n",
    "    )\n",
    "    self.farmer_bias = layers.Embedding(num_farmer, 1)\n",
    "\n",
    "  def call(self, inputs):\n",
    "    user_vector = self.user_embedding(inputs[:, 0])\n",
    "    user_bias = self.user_bias(inputs[:, 0])\n",
    "    farmer_vector = self.farmer_embedding(inputs[:, 1])\n",
    "    farmer_bias = self.farmer_bias(inputs[:, 1])\n",
    "    dot_user_farmer = tf.tensordot(user_vector, farmer_vector, 2)\n",
    "    x = dot_user_farmer + user_bias + farmer_bias\n",
    "    return tf.nn.sigmoid(x)\n",
    "  \n",
    "model = RecommenderNet(num_users=len(user_id_encoded), num_farmer=len(farmer_id_encoded), embedding_size=100)\n",
    "\n",
    "model.build(input_shape=(None, 2))\n",
    "\n",
    "model.compile(\n",
    "    loss=tf.keras.losses.BinaryCrossentropy(), \n",
    "    optimizer=keras.optimizers.Adam(learning_rate=0.001),\n",
    "    metrics=[tf.keras.metrics.RootMeanSquaredError()]\n",
    ")\n",
    "\n",
    "model.summary()"
   ]
  },
  {
   "cell_type": "code",
   "execution_count": 210,
   "metadata": {},
   "outputs": [
    {
     "name": "stdout",
     "output_type": "stream",
     "text": [
      "Epoch 1/5\n"
     ]
    },
    {
     "name": "stdout",
     "output_type": "stream",
     "text": [
      "1/1 [==============================] - 1s 702ms/step - loss: 1.0009 - root_mean_squared_error: 0.5120 - val_loss: 1.0948 - val_root_mean_squared_error: 0.5704\n",
      "Epoch 2/5\n",
      "1/1 [==============================] - 0s 66ms/step - loss: 0.7937 - root_mean_squared_error: 0.4079 - val_loss: 1.1033 - val_root_mean_squared_error: 0.5734\n",
      "Epoch 3/5\n",
      "1/1 [==============================] - 0s 71ms/step - loss: 0.6451 - root_mean_squared_error: 0.3041 - val_loss: 1.1116 - val_root_mean_squared_error: 0.5764\n",
      "Epoch 4/5\n",
      "1/1 [==============================] - 0s 67ms/step - loss: 0.5545 - root_mean_squared_error: 0.2213 - val_loss: 1.1195 - val_root_mean_squared_error: 0.5791\n",
      "Epoch 5/5\n",
      "1/1 [==============================] - 0s 46ms/step - loss: 0.5127 - root_mean_squared_error: 0.1762 - val_loss: 1.1268 - val_root_mean_squared_error: 0.5816\n"
     ]
    }
   ],
   "source": [
    "history = model.fit(\n",
    "    x=x_train,\n",
    "    y=y_train,\n",
    "    batch_size=64,\n",
    "    epochs=5,\n",
    "    verbose=1,\n",
    "    validation_data=(x_val, y_val),\n",
    ")"
   ]
  },
  {
   "cell_type": "code",
   "execution_count": 232,
   "metadata": {},
   "outputs": [],
   "source": [
    "data = cb_df.copy()\n",
    "\n",
    "\n",
    "def get_collab_recommendations(user_id, items=cb_df[['farmer_id', 'nama', 'jenis_sawah']], k=5):\n",
    "  # ambil data user yang sudah memberikan rating\n",
    "  farmer_reviewed_by_user = collab_df[collab_df['user_id'] == user_id]\n",
    "\n",
    "  farmer_not_reviewed = data[~data['farmer_id'].isin(  # ambil data user yang belum memberikan rating\n",
    "    farmer_reviewed_by_user['farmer_id'])]\n",
    "\n",
    "  farmer_not_reviewed = list(\n",
    "    set(farmer_not_reviewed['farmer_id'].tolist()).intersection(set(farmer_id_encoded.keys())))  # ambil data user yang belum memberikan rating\n",
    "\n",
    "  farmer_not_reviewed = [[user_id_encoded.get(user_id), farmer_id_encoded.get(\n",
    "    farmer_id)] for farmer_id in farmer_not_reviewed]  # encode user dan farmer\n",
    "\n",
    "  user_encoder = user_id_encoded.get(user_id)  # encode user\n",
    "\n",
    "  user_farmer_array = np.hstack(\n",
    "    ([[user_encoder]] * len(farmer_not_reviewed), farmer_not_reviewed))  # gabungkan user dan farmer\n",
    "\n",
    "  ratings = model.predict(user_farmer_array).flatten()  # prediksi rating\n",
    "\n",
    "  top_ratings_indices = ratings.argsort()[-k:][::-1]  # ambil 5 teratas\n",
    "\n",
    "  farmer_encoded = {i: x for i, x in enumerate(farmer_id_encoded)}\n",
    "\n",
    "  recommended_farmer_ids = [farmer_encoded.get(\n",
    "      farmer_not_reviewed[x][0]) for x in top_ratings_indices]  # decode farmer\n",
    "  \n",
    "  recommended_farmer = items[items['farmer_id'].isin(recommended_farmer_ids)]\n",
    "\n",
    "  return recommended_farmer"
   ]
  },
  {
   "cell_type": "code",
   "execution_count": 235,
   "metadata": {},
   "outputs": [
    {
     "name": "stdout",
     "output_type": "stream",
     "text": [
      "1/1 [==============================] - 0s 25ms/step\n"
     ]
    },
    {
     "data": {
      "text/html": [
       "<div>\n",
       "<style scoped>\n",
       "    .dataframe tbody tr th:only-of-type {\n",
       "        vertical-align: middle;\n",
       "    }\n",
       "\n",
       "    .dataframe tbody tr th {\n",
       "        vertical-align: top;\n",
       "    }\n",
       "\n",
       "    .dataframe thead th {\n",
       "        text-align: right;\n",
       "    }\n",
       "</style>\n",
       "<table border=\"1\" class=\"dataframe\">\n",
       "  <thead>\n",
       "    <tr style=\"text-align: right;\">\n",
       "      <th></th>\n",
       "      <th>farmer_id</th>\n",
       "      <th>nama</th>\n",
       "      <th>jenis_sawah</th>\n",
       "    </tr>\n",
       "  </thead>\n",
       "  <tbody>\n",
       "    <tr>\n",
       "      <th>2</th>\n",
       "      <td>58c5ee91-37b5-4818-8815-872eae86f21c</td>\n",
       "      <td>Budiman</td>\n",
       "      <td>datarantinggi</td>\n",
       "    </tr>\n",
       "  </tbody>\n",
       "</table>\n",
       "</div>"
      ],
      "text/plain": [
       "                              farmer_id     nama    jenis_sawah\n",
       "2  58c5ee91-37b5-4818-8815-872eae86f21c  Budiman  datarantinggi"
      ]
     },
     "execution_count": 235,
     "metadata": {},
     "output_type": "execute_result"
    }
   ],
   "source": [
    "get_collab_recommendations(user_id='c74c14bf-d6ae-455d-842c-6c02cd638349', k=10)"
   ]
  },
  {
   "cell_type": "markdown",
   "metadata": {},
   "source": [
    "## **Deployment**"
   ]
  },
  {
   "cell_type": "code",
   "execution_count": null,
   "metadata": {},
   "outputs": [],
   "source": []
  }
 ],
 "metadata": {
  "kernelspec": {
   "display_name": "mlops-tfx",
   "language": "python",
   "name": "python3"
  },
  "language_info": {
   "codemirror_mode": {
    "name": "ipython",
    "version": 3
   },
   "file_extension": ".py",
   "mimetype": "text/x-python",
   "name": "python",
   "nbconvert_exporter": "python",
   "pygments_lexer": "ipython3",
   "version": "3.9.15"
  }
 },
 "nbformat": 4,
 "nbformat_minor": 2
}

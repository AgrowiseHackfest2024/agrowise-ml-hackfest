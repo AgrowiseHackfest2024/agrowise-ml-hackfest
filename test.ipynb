{
 "cells": [
  {
   "cell_type": "code",
   "execution_count": 289,
   "metadata": {},
   "outputs": [],
   "source": [
    "import pickle\n",
    "import tensorflow as tf\n",
    "\n",
    "# Memuat data dan model yang diperlukan\n",
    "folder = './model/'\n",
    "user_id = 'c74c14bf-d6ae-455d-842c-6c02cd638349'\n",
    "k = 10\n",
    "cb_df = pickle.load(open(folder + 'cb_df.pkl', 'rb'))\n",
    "collab_df = pickle.load(open(folder + 'collab_df.pkl', 'rb'))\n",
    "user_id_encoded = pickle.load(open(folder + 'user_id_encoded.pkl', 'rb'))\n",
    "farmer_id_encoded = pickle.load(open(folder + 'farmer_id_encoded.pkl', 'rb'))\n",
    "model = tf.keras.models.load_model(folder + '/model_collab')\n",
    "model.compile(\n",
    "    loss=tf.keras.losses.BinaryCrossentropy(), \n",
    "    optimizer=keras.optimizers.Adam(learning_rate=0.001),\n",
    "    metrics=[tf.keras.metrics.RootMeanSquaredError()]\n",
    ")"
   ]
  },
  {
   "cell_type": "code",
   "execution_count": 290,
   "metadata": {},
   "outputs": [
    {
     "data": {
      "text/html": [
       "<div>\n",
       "<style scoped>\n",
       "    .dataframe tbody tr th:only-of-type {\n",
       "        vertical-align: middle;\n",
       "    }\n",
       "\n",
       "    .dataframe tbody tr th {\n",
       "        vertical-align: top;\n",
       "    }\n",
       "\n",
       "    .dataframe thead th {\n",
       "        text-align: right;\n",
       "    }\n",
       "</style>\n",
       "<table border=\"1\" class=\"dataframe\">\n",
       "  <thead>\n",
       "    <tr style=\"text-align: right;\">\n",
       "      <th></th>\n",
       "      <th>farmer_id</th>\n",
       "      <th>nama</th>\n",
       "      <th>jenis_sawah</th>\n",
       "    </tr>\n",
       "  </thead>\n",
       "  <tbody>\n",
       "    <tr>\n",
       "      <th>0</th>\n",
       "      <td>1000a253-a43c-4ab3-91f7-8c370e01b9c4</td>\n",
       "      <td>Syawalludin</td>\n",
       "      <td>datarantinggi</td>\n",
       "    </tr>\n",
       "    <tr>\n",
       "      <th>1</th>\n",
       "      <td>2345a62a-8d3a-4f7b-aad5-7e50670a817b</td>\n",
       "      <td>Auva</td>\n",
       "      <td>irigasi</td>\n",
       "    </tr>\n",
       "    <tr>\n",
       "      <th>2</th>\n",
       "      <td>58c5ee91-37b5-4818-8815-872eae86f21c</td>\n",
       "      <td>Budiman</td>\n",
       "      <td>datarantinggi</td>\n",
       "    </tr>\n",
       "    <tr>\n",
       "      <th>3</th>\n",
       "      <td>7488ab52-bc5b-4ff2-9427-a01b64145c6c</td>\n",
       "      <td>Suryadi</td>\n",
       "      <td>dataranrendah</td>\n",
       "    </tr>\n",
       "    <tr>\n",
       "      <th>4</th>\n",
       "      <td>a5d3b9fe-eb1f-4c7e-84fb-fd95a39697a7</td>\n",
       "      <td>Kevin</td>\n",
       "      <td>ladang</td>\n",
       "    </tr>\n",
       "    <tr>\n",
       "      <th>5</th>\n",
       "      <td>cecb6e32-8f30-4806-a16c-a6073966ad65</td>\n",
       "      <td>Amriz</td>\n",
       "      <td>ladang</td>\n",
       "    </tr>\n",
       "    <tr>\n",
       "      <th>6</th>\n",
       "      <td>e9ef08e2-9d2d-49d4-8934-7f259cbbf867</td>\n",
       "      <td>Asepuri</td>\n",
       "      <td>dataranrendah</td>\n",
       "    </tr>\n",
       "  </tbody>\n",
       "</table>\n",
       "</div>"
      ],
      "text/plain": [
       "                              farmer_id         nama    jenis_sawah\n",
       "0  1000a253-a43c-4ab3-91f7-8c370e01b9c4  Syawalludin  datarantinggi\n",
       "1  2345a62a-8d3a-4f7b-aad5-7e50670a817b         Auva        irigasi\n",
       "2  58c5ee91-37b5-4818-8815-872eae86f21c      Budiman  datarantinggi\n",
       "3  7488ab52-bc5b-4ff2-9427-a01b64145c6c      Suryadi  dataranrendah\n",
       "4  a5d3b9fe-eb1f-4c7e-84fb-fd95a39697a7        Kevin         ladang\n",
       "5  cecb6e32-8f30-4806-a16c-a6073966ad65        Amriz         ladang\n",
       "6  e9ef08e2-9d2d-49d4-8934-7f259cbbf867      Asepuri  dataranrendah"
      ]
     },
     "execution_count": 290,
     "metadata": {},
     "output_type": "execute_result"
    }
   ],
   "source": [
    "cb_df[['farmer_id', 'nama', 'jenis_sawah']]"
   ]
  },
  {
   "cell_type": "code",
   "execution_count": 291,
   "metadata": {},
   "outputs": [
    {
     "data": {
      "text/html": [
       "<div>\n",
       "<style scoped>\n",
       "    .dataframe tbody tr th:only-of-type {\n",
       "        vertical-align: middle;\n",
       "    }\n",
       "\n",
       "    .dataframe tbody tr th {\n",
       "        vertical-align: top;\n",
       "    }\n",
       "\n",
       "    .dataframe thead th {\n",
       "        text-align: right;\n",
       "    }\n",
       "</style>\n",
       "<table border=\"1\" class=\"dataframe\">\n",
       "  <thead>\n",
       "    <tr style=\"text-align: right;\">\n",
       "      <th></th>\n",
       "      <th>user_id</th>\n",
       "      <th>farmer_id</th>\n",
       "      <th>rating</th>\n",
       "      <th>user</th>\n",
       "      <th>farmer</th>\n",
       "    </tr>\n",
       "  </thead>\n",
       "  <tbody>\n",
       "    <tr>\n",
       "      <th>0</th>\n",
       "      <td>2bd66dd6-5ac6-40ad-968e-1271da13db32</td>\n",
       "      <td>1000a253-a43c-4ab3-91f7-8c370e01b9c4</td>\n",
       "      <td>4</td>\n",
       "      <td>0</td>\n",
       "      <td>0</td>\n",
       "    </tr>\n",
       "    <tr>\n",
       "      <th>1</th>\n",
       "      <td>b0af16ed-0633-42a2-afc7-2c5e48db5a48</td>\n",
       "      <td>2345a62a-8d3a-4f7b-aad5-7e50670a817b</td>\n",
       "      <td>4</td>\n",
       "      <td>1</td>\n",
       "      <td>1</td>\n",
       "    </tr>\n",
       "    <tr>\n",
       "      <th>5</th>\n",
       "      <td>c74c14bf-d6ae-455d-842c-6c02cd638349</td>\n",
       "      <td>cecb6e32-8f30-4806-a16c-a6073966ad65</td>\n",
       "      <td>5</td>\n",
       "      <td>2</td>\n",
       "      <td>5</td>\n",
       "    </tr>\n",
       "    <tr>\n",
       "      <th>2</th>\n",
       "      <td>2bd66dd6-5ac6-40ad-968e-1271da13db32</td>\n",
       "      <td>58c5ee91-37b5-4818-8815-872eae86f21c</td>\n",
       "      <td>5</td>\n",
       "      <td>0</td>\n",
       "      <td>2</td>\n",
       "    </tr>\n",
       "    <tr>\n",
       "      <th>4</th>\n",
       "      <td>b0af16ed-0633-42a2-afc7-2c5e48db5a48</td>\n",
       "      <td>a5d3b9fe-eb1f-4c7e-84fb-fd95a39697a7</td>\n",
       "      <td>4</td>\n",
       "      <td>1</td>\n",
       "      <td>4</td>\n",
       "    </tr>\n",
       "    <tr>\n",
       "      <th>3</th>\n",
       "      <td>c74c14bf-d6ae-455d-842c-6c02cd638349</td>\n",
       "      <td>7488ab52-bc5b-4ff2-9427-a01b64145c6c</td>\n",
       "      <td>3</td>\n",
       "      <td>2</td>\n",
       "      <td>3</td>\n",
       "    </tr>\n",
       "    <tr>\n",
       "      <th>6</th>\n",
       "      <td>c74c14bf-d6ae-455d-842c-6c02cd638349</td>\n",
       "      <td>e9ef08e2-9d2d-49d4-8934-7f259cbbf867</td>\n",
       "      <td>2</td>\n",
       "      <td>2</td>\n",
       "      <td>6</td>\n",
       "    </tr>\n",
       "  </tbody>\n",
       "</table>\n",
       "</div>"
      ],
      "text/plain": [
       "                                user_id                             farmer_id  \\\n",
       "0  2bd66dd6-5ac6-40ad-968e-1271da13db32  1000a253-a43c-4ab3-91f7-8c370e01b9c4   \n",
       "1  b0af16ed-0633-42a2-afc7-2c5e48db5a48  2345a62a-8d3a-4f7b-aad5-7e50670a817b   \n",
       "5  c74c14bf-d6ae-455d-842c-6c02cd638349  cecb6e32-8f30-4806-a16c-a6073966ad65   \n",
       "2  2bd66dd6-5ac6-40ad-968e-1271da13db32  58c5ee91-37b5-4818-8815-872eae86f21c   \n",
       "4  b0af16ed-0633-42a2-afc7-2c5e48db5a48  a5d3b9fe-eb1f-4c7e-84fb-fd95a39697a7   \n",
       "3  c74c14bf-d6ae-455d-842c-6c02cd638349  7488ab52-bc5b-4ff2-9427-a01b64145c6c   \n",
       "6  c74c14bf-d6ae-455d-842c-6c02cd638349  e9ef08e2-9d2d-49d4-8934-7f259cbbf867   \n",
       "\n",
       "   rating  user  farmer  \n",
       "0       4     0       0  \n",
       "1       4     1       1  \n",
       "5       5     2       5  \n",
       "2       5     0       2  \n",
       "4       4     1       4  \n",
       "3       3     2       3  \n",
       "6       2     2       6  "
      ]
     },
     "execution_count": 291,
     "metadata": {},
     "output_type": "execute_result"
    }
   ],
   "source": [
    "collab_df"
   ]
  },
  {
   "cell_type": "code",
   "execution_count": 292,
   "metadata": {},
   "outputs": [
    {
     "name": "stdout",
     "output_type": "stream",
     "text": [
      "Model: \"recommender_net_43\"\n",
      "_________________________________________________________________\n",
      " Layer (type)                Output Shape              Param #   \n",
      "=================================================================\n",
      " embedding_172 (Embedding)   multiple                  300       \n",
      "                                                                 \n",
      " embedding_173 (Embedding)   multiple                  3         \n",
      "                                                                 \n",
      " embedding_174 (Embedding)   multiple                  700       \n",
      "                                                                 \n",
      " embedding_175 (Embedding)   multiple                  7         \n",
      "                                                                 \n",
      "=================================================================\n",
      "Total params: 1,010\n",
      "Trainable params: 1,010\n",
      "Non-trainable params: 0\n",
      "_________________________________________________________________\n"
     ]
    }
   ],
   "source": [
    "model.summary()"
   ]
  },
  {
   "cell_type": "code",
   "execution_count": 293,
   "metadata": {},
   "outputs": [
    {
     "data": {
      "text/plain": [
       "{'2bd66dd6-5ac6-40ad-968e-1271da13db32': 0,\n",
       " 'b0af16ed-0633-42a2-afc7-2c5e48db5a48': 1,\n",
       " 'c74c14bf-d6ae-455d-842c-6c02cd638349': 2}"
      ]
     },
     "execution_count": 293,
     "metadata": {},
     "output_type": "execute_result"
    }
   ],
   "source": [
    "user_id_encoded"
   ]
  },
  {
   "cell_type": "code",
   "execution_count": 294,
   "metadata": {},
   "outputs": [
    {
     "data": {
      "text/plain": [
       "{'1000a253-a43c-4ab3-91f7-8c370e01b9c4': 0,\n",
       " '2345a62a-8d3a-4f7b-aad5-7e50670a817b': 1,\n",
       " '58c5ee91-37b5-4818-8815-872eae86f21c': 2,\n",
       " '7488ab52-bc5b-4ff2-9427-a01b64145c6c': 3,\n",
       " 'a5d3b9fe-eb1f-4c7e-84fb-fd95a39697a7': 4,\n",
       " 'cecb6e32-8f30-4806-a16c-a6073966ad65': 5,\n",
       " 'e9ef08e2-9d2d-49d4-8934-7f259cbbf867': 6}"
      ]
     },
     "execution_count": 294,
     "metadata": {},
     "output_type": "execute_result"
    }
   ],
   "source": [
    "farmer_id_encoded"
   ]
  },
  {
   "cell_type": "code",
   "execution_count": 295,
   "metadata": {},
   "outputs": [],
   "source": [
    "import numpy as np\n",
    "import tensorflow as tf\n",
    "\n",
    "\n",
    "def get_collab_recommendations(user_id, items, collab_df, model, user_id_encoded, farmer_id_encoded, k=5):\n",
    "  farmer_reviewed_by_user = collab_df[collab_df['user_id'] == user_id]\n",
    "  farmer_not_reviewed = items[~items['farmer_id'].isin(\n",
    "    farmer_reviewed_by_user['farmer_id'])]\n",
    "\n",
    "  farmer_not_reviewed = list(set(farmer_not_reviewed['farmer_id'].tolist(\n",
    "  )).intersection(set(farmer_id_encoded.keys())))\n",
    "\n",
    "  farmer_not_reviewed = [[user_id_encoded.get(user_id), farmer_id_encoded.get(\n",
    "    farmer_id)] for farmer_id in farmer_not_reviewed]\n",
    "\n",
    "  user_farmer_array = np.array(farmer_not_reviewed)\n",
    "  user_farmer_array = tf.convert_to_tensor(\n",
    "    user_farmer_array, dtype=tf.int64)  # Convert to tf.int64\n",
    "\n",
    "  ratings = model.predict(user_farmer_array).flatten()\n",
    "\n",
    "  top_ratings_indices = ratings.argsort()[-k:][::-1]\n",
    "\n",
    "  farmer_encoded = {i: x for i, x in enumerate(farmer_id_encoded)}\n",
    "  recommended_farmer_ids = [farmer_encoded.get(\n",
    "    farmer_not_reviewed[x][1]) for x in top_ratings_indices]\n",
    "\n",
    "  recommended_farmer = items[items['farmer_id'].isin(recommended_farmer_ids)]\n",
    "\n",
    "  return recommended_farmer"
   ]
  },
  {
   "cell_type": "code",
   "execution_count": 296,
   "metadata": {},
   "outputs": [
    {
     "name": "stdout",
     "output_type": "stream",
     "text": [
      "1/1 [==============================] - 0s 139ms/step\n"
     ]
    },
    {
     "data": {
      "text/html": [
       "<div>\n",
       "<style scoped>\n",
       "    .dataframe tbody tr th:only-of-type {\n",
       "        vertical-align: middle;\n",
       "    }\n",
       "\n",
       "    .dataframe tbody tr th {\n",
       "        vertical-align: top;\n",
       "    }\n",
       "\n",
       "    .dataframe thead th {\n",
       "        text-align: right;\n",
       "    }\n",
       "</style>\n",
       "<table border=\"1\" class=\"dataframe\">\n",
       "  <thead>\n",
       "    <tr style=\"text-align: right;\">\n",
       "      <th></th>\n",
       "      <th>farmer_id</th>\n",
       "      <th>nama</th>\n",
       "      <th>jenis_sawah</th>\n",
       "    </tr>\n",
       "  </thead>\n",
       "  <tbody>\n",
       "    <tr>\n",
       "      <th>0</th>\n",
       "      <td>1000a253-a43c-4ab3-91f7-8c370e01b9c4</td>\n",
       "      <td>Syawalludin</td>\n",
       "      <td>datarantinggi</td>\n",
       "    </tr>\n",
       "    <tr>\n",
       "      <th>1</th>\n",
       "      <td>2345a62a-8d3a-4f7b-aad5-7e50670a817b</td>\n",
       "      <td>Auva</td>\n",
       "      <td>irigasi</td>\n",
       "    </tr>\n",
       "    <tr>\n",
       "      <th>2</th>\n",
       "      <td>58c5ee91-37b5-4818-8815-872eae86f21c</td>\n",
       "      <td>Budiman</td>\n",
       "      <td>datarantinggi</td>\n",
       "    </tr>\n",
       "    <tr>\n",
       "      <th>4</th>\n",
       "      <td>a5d3b9fe-eb1f-4c7e-84fb-fd95a39697a7</td>\n",
       "      <td>Kevin</td>\n",
       "      <td>ladang</td>\n",
       "    </tr>\n",
       "  </tbody>\n",
       "</table>\n",
       "</div>"
      ],
      "text/plain": [
       "                              farmer_id         nama    jenis_sawah\n",
       "0  1000a253-a43c-4ab3-91f7-8c370e01b9c4  Syawalludin  datarantinggi\n",
       "1  2345a62a-8d3a-4f7b-aad5-7e50670a817b         Auva        irigasi\n",
       "2  58c5ee91-37b5-4818-8815-872eae86f21c      Budiman  datarantinggi\n",
       "4  a5d3b9fe-eb1f-4c7e-84fb-fd95a39697a7        Kevin         ladang"
      ]
     },
     "execution_count": 296,
     "metadata": {},
     "output_type": "execute_result"
    }
   ],
   "source": [
    "get_collab_recommendations(user_id=user_id, items=cb_df, collab_df=collab_df, model=model, user_id_encoded=user_id_encoded, farmer_id_encoded=farmer_id_encoded, k=10)"
   ]
  }
 ],
 "metadata": {
  "kernelspec": {
   "display_name": "mlops-tfx",
   "language": "python",
   "name": "python3"
  },
  "language_info": {
   "codemirror_mode": {
    "name": "ipython",
    "version": 3
   },
   "file_extension": ".py",
   "mimetype": "text/x-python",
   "name": "python",
   "nbconvert_exporter": "python",
   "pygments_lexer": "ipython3",
   "version": "3.9.15"
  }
 },
 "nbformat": 4,
 "nbformat_minor": 2
}
